{
 "cells": [
  {
   "cell_type": "markdown",
   "id": "88252973",
   "metadata": {},
   "source": [
    "# Fasta to Genbank to  file conversion"
   ]
  },
  {
   "cell_type": "code",
   "execution_count": 46,
   "id": "15f67701",
   "metadata": {},
   "outputs": [
    {
     "name": "stdout",
     "output_type": "stream",
     "text": [
      "Successfully Executed\n"
     ]
    }
   ],
   "source": [
    "from Bio import SeqIO\n",
    "from Bio.Seq import Seq\n",
    "from Bio.Restriction import EcoRI, HindII, BamHI\n",
    "\n",
    "seq = SeqIO.read(\"S_Agona_SL483.fna\", \"fasta\")\n",
    "seq.annotations[\"molecule_type\"] = \"DNA\"  \n",
    "\n",
    "with open(\"S_Agona_SL483_genbank.gb\", \"w\") as f:  \n",
    "    SeqIO.write(seq, f, \"genbank\")\n",
    "    print(\"Successfully Executed\")\n"
   ]
  },
  {
   "cell_type": "markdown",
   "id": "53cdcd75",
   "metadata": {},
   "source": [
    "# Genbank to fasta file conversion"
   ]
  },
  {
   "cell_type": "code",
   "execution_count": 47,
   "id": "6f7c6551",
   "metadata": {},
   "outputs": [
    {
     "name": "stdout",
     "output_type": "stream",
     "text": [
      "Successfully Executed\n"
     ]
    }
   ],
   "source": [
    "gb = SeqIO.convert(\"Enterobacter_sp.gb\",\"genbank\",\"Enterobacter_sp.fasta\",\"fasta\")\n",
    "print(\"Successfully Executed\")"
   ]
  },
  {
   "cell_type": "markdown",
   "id": "7d22e594",
   "metadata": {},
   "source": [
    "# Motifs"
   ]
  },
  {
   "cell_type": "code",
   "execution_count": 48,
   "id": "9af86cf9",
   "metadata": {},
   "outputs": [
    {
     "name": "stdout",
     "output_type": "stream",
     "text": [
      "\n",
      " KU678387.1 AACCGCTTCTTATTCCCGACCGCCCTCCCCAATAAAAGATGCGGCGATCA\n",
      "EcoRI Restriction sites in sequence: []\n",
      "HindII Restriction sites in sequence: []\n",
      "BamhI Restriction sites in sequence: [88]\n",
      "\n",
      " KU678386.1 AACCGCTTCTACTACCAGATCGCGATCCCGCTGAAGGACGCGGCGATCAT\n",
      "EcoRI Restriction sites in sequence: []\n",
      "HindII Restriction sites in sequence: [232]\n",
      "BamhI Restriction sites in sequence: [87]\n",
      "\n",
      " MH221197.1 CAGGGCTGGGTCGCCACCCGCTTTTATTACCAGACCAATATTCCCCTCAA\n",
      "EcoRI Restriction sites in sequence: []\n",
      "HindII Restriction sites in sequence: []\n",
      "BamhI Restriction sites in sequence: []\n",
      "\n",
      " KU678371.1 AACCGCTTCTACTACCAGATCGCGATCCCGCTGAAGGACGCGGCGATCAT\n",
      "EcoRI Restriction sites in sequence: []\n",
      "HindII Restriction sites in sequence: []\n",
      "BamhI Restriction sites in sequence: []\n",
      "\n",
      " KU678382.1 AACCGCTTCTACTACCAGAAGAACATCCCGATCAAGGACGCTCTCTTGCT\n",
      "EcoRI Restriction sites in sequence: []\n",
      "HindII Restriction sites in sequence: [256]\n",
      "BamhI Restriction sites in sequence: []\n"
     ]
    }
   ],
   "source": [
    "seq_2 = SeqIO.parse(\"sequence.fasta\",\"fasta\")\n",
    "for i in seq_2:\n",
    " seq_2_id = i.id\n",
    " seq_2_seq = i.seq\n",
    " print(\"\\n\",seq_2_id,seq_2_seq[:50])\n",
    " E_cut_site = EcoRI.search(seq_2_seq)\n",
    " print(\"EcoRI Restriction sites in sequence:\",E_cut_site)\n",
    " H_cut_site = HindII.search(seq_2_seq)\n",
    " print(\"HindII Restriction sites in sequence:\",H_cut_site)\n",
    " B_cut_site = BamHI.search(seq_2_seq)\n",
    " print(\"BamhI Restriction sites in sequence:\",B_cut_site)"
   ]
  }
 ],
 "metadata": {
  "kernelspec": {
   "display_name": "Python 3",
   "language": "python",
   "name": "python3"
  },
  "language_info": {
   "codemirror_mode": {
    "name": "ipython",
    "version": 3
   },
   "file_extension": ".py",
   "mimetype": "text/x-python",
   "name": "python",
   "nbconvert_exporter": "python",
   "pygments_lexer": "ipython3",
   "version": "3.12.8"
  }
 },
 "nbformat": 4,
 "nbformat_minor": 5
}
